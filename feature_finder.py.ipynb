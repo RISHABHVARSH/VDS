{
 "cells": [
  {
   "cell_type": "code",
   "execution_count": 2,
   "metadata": {},
   "outputs": [
    {
     "name": "stdout",
     "output_type": "stream",
     "text": [
      "[[126 105  93 ...  55  58  51]\n",
      " [ 99  88  85 ...  58  70  72]\n",
      " [ 93  95 111 ...  49  57  58]\n",
      " ...\n",
      " [161 162 162 ... 165 166 166]\n",
      " [158 158 159 ... 172 173 174]\n",
      " [160 161 158 ... 171 173 170]]\n",
      "Number of white pixels: 1047\n"
     ]
    }
   ],
   "source": [
    "import cv2\n",
    "import numpy as np\n",
    "\n",
    "img = cv2.imread('car1.jpeg', cv2.IMREAD_GRAYSCALE)\n",
    "print(img)\n",
    "\n",
    "n_white_pix = np.sum(img == 255)\n",
    "print('Number of white pixels:', n_white_pix)"
   ]
  },
  {
   "cell_type": "code",
   "execution_count": null,
   "metadata": {},
   "outputs": [],
   "source": []
  }
 ],
 "metadata": {
  "kernelspec": {
   "display_name": "Python 3",
   "language": "python",
   "name": "python3"
  },
  "language_info": {
   "codemirror_mode": {
    "name": "ipython",
    "version": 3
   },
   "file_extension": ".py",
   "mimetype": "text/x-python",
   "name": "python",
   "nbconvert_exporter": "python",
   "pygments_lexer": "ipython3",
   "version": "3.6.4"
  }
 },
 "nbformat": 4,
 "nbformat_minor": 2
}
